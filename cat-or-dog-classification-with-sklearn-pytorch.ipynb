{
 "cells": [
  {
   "cell_type": "markdown",
   "id": "893aa92e",
   "metadata": {
    "papermill": {
     "duration": 0.011004,
     "end_time": "2023-09-09T16:56:23.100557",
     "exception": false,
     "start_time": "2023-09-09T16:56:23.089553",
     "status": "completed"
    },
    "tags": []
   },
   "source": [
    "## Cat and Dog Classification (SKlearn,OpenCV) and (PyTorch)"
   ]
  },
  {
   "cell_type": "markdown",
   "id": "26973a4f",
   "metadata": {
    "papermill": {
     "duration": 0.010013,
     "end_time": "2023-09-09T16:56:23.120900",
     "exception": false,
     "start_time": "2023-09-09T16:56:23.110887",
     "status": "completed"
    },
    "tags": []
   },
   "source": [
    "**1. Image Classification using OpenCV andSKlearn"
   ]
  },
  {
   "cell_type": "code",
   "execution_count": 1,
   "id": "841f3d6d",
   "metadata": {
    "execution": {
     "iopub.execute_input": "2023-09-09T16:56:23.142706Z",
     "iopub.status.busy": "2023-09-09T16:56:23.142224Z",
     "iopub.status.idle": "2023-09-09T16:56:27.204249Z",
     "shell.execute_reply": "2023-09-09T16:56:27.202946Z"
    },
    "papermill": {
     "duration": 4.07697,
     "end_time": "2023-09-09T16:56:27.207456",
     "exception": false,
     "start_time": "2023-09-09T16:56:23.130486",
     "status": "completed"
    },
    "tags": []
   },
   "outputs": [
    {
     "name": "stderr",
     "output_type": "stream",
     "text": [
      "/opt/conda/lib/python3.10/site-packages/scipy/__init__.py:146: UserWarning: A NumPy version >=1.16.5 and <1.23.0 is required for this version of SciPy (detected version 1.23.5\n",
      "  warnings.warn(f\"A NumPy version >={np_minversion} and <{np_maxversion}\"\n"
     ]
    }
   ],
   "source": [
    "import os\n",
    "import cv2\n",
    "import numpy as np\n",
    "import pandas as pd\n",
    "from sklearn.linear_model import LogisticRegression\n",
    "from sklearn.ensemble import RandomForestClassifier, ExtraTreesClassifier\n",
    "from sklearn.tree import DecisionTreeClassifier\n",
    "import lightgbm as lgb\n",
    "import xgboost as xgb\n",
    "from sklearn.metrics import accuracy_score\n",
    "import matplotlib.pyplot as plt\n",
    "import seaborn as sns\n",
    "\n",
    "seed = 42"
   ]
  },
  {
   "cell_type": "code",
   "execution_count": 2,
   "id": "7138ad58",
   "metadata": {
    "execution": {
     "iopub.execute_input": "2023-09-09T16:56:27.230172Z",
     "iopub.status.busy": "2023-09-09T16:56:27.228826Z",
     "iopub.status.idle": "2023-09-09T16:56:27.234572Z",
     "shell.execute_reply": "2023-09-09T16:56:27.233403Z"
    },
    "papermill": {
     "duration": 0.019242,
     "end_time": "2023-09-09T16:56:27.236892",
     "exception": false,
     "start_time": "2023-09-09T16:56:27.217650",
     "status": "completed"
    },
    "tags": []
   },
   "outputs": [],
   "source": [
    "train_folder = \"/kaggle/input/cats-and-dogs-image-classification/train\"\n",
    "test_folder = \"/kaggle/input/cats-and-dogs-image-classification/test\""
   ]
  },
  {
   "cell_type": "code",
   "execution_count": 3,
   "id": "6bee778f",
   "metadata": {
    "execution": {
     "iopub.execute_input": "2023-09-09T16:56:27.258809Z",
     "iopub.status.busy": "2023-09-09T16:56:27.258399Z",
     "iopub.status.idle": "2023-09-09T16:56:27.266798Z",
     "shell.execute_reply": "2023-09-09T16:56:27.265455Z"
    },
    "papermill": {
     "duration": 0.022332,
     "end_time": "2023-09-09T16:56:27.269282",
     "exception": false,
     "start_time": "2023-09-09T16:56:27.246950",
     "status": "completed"
    },
    "tags": []
   },
   "outputs": [],
   "source": [
    "def load_images(folder):\n",
    "    images = []\n",
    "    labels = []\n",
    "    \n",
    "    for subfolder in os.listdir(folder):\n",
    "        subfolder_path = os.path.join(folder, subfolder)\n",
    "        label = 1 if subfolder == 'dogs' else 0\n",
    "        \n",
    "        for imagelist in os.listdir(subfolder_path):\n",
    "            image_path = os.path.join(subfolder_path, imagelist)\n",
    "            image = cv2.imread(image_path)\n",
    "            image = cv2.resize(image, (64, 64))\n",
    "            images.append(image)\n",
    "            labels.append(label)\n",
    "                \n",
    "    return np.array(images), np.array(labels)"
   ]
  },
  {
   "cell_type": "code",
   "execution_count": 4,
   "id": "349d5df4",
   "metadata": {
    "execution": {
     "iopub.execute_input": "2023-09-09T16:56:27.292360Z",
     "iopub.status.busy": "2023-09-09T16:56:27.291661Z",
     "iopub.status.idle": "2023-09-09T16:56:42.537113Z",
     "shell.execute_reply": "2023-09-09T16:56:42.535724Z"
    },
    "papermill": {
     "duration": 15.261724,
     "end_time": "2023-09-09T16:56:42.540771",
     "exception": false,
     "start_time": "2023-09-09T16:56:27.279047",
     "status": "completed"
    },
    "tags": []
   },
   "outputs": [],
   "source": [
    "train_images, train_labels = load_images(train_folder)\n",
    "test_images, test_labels = load_images(test_folder)\n",
    "\n",
    "flat_train_images = train_images.reshape(train_images.shape[0], -1)\n",
    "flat_test_images = test_images.reshape(test_images.shape[0], -1)"
   ]
  },
  {
   "cell_type": "code",
   "execution_count": 5,
   "id": "226437be",
   "metadata": {
    "execution": {
     "iopub.execute_input": "2023-09-09T16:56:42.562616Z",
     "iopub.status.busy": "2023-09-09T16:56:42.562157Z",
     "iopub.status.idle": "2023-09-09T16:56:42.569031Z",
     "shell.execute_reply": "2023-09-09T16:56:42.567764Z"
    },
    "papermill": {
     "duration": 0.020638,
     "end_time": "2023-09-09T16:56:42.571493",
     "exception": false,
     "start_time": "2023-09-09T16:56:42.550855",
     "status": "completed"
    },
    "tags": []
   },
   "outputs": [],
   "source": [
    "models = {\n",
    "    'Logistic Regression': LogisticRegression(max_iter=1000, random_state=seed),\n",
    "    'Random Forest': RandomForestClassifier(random_state=seed),\n",
    "    'Extra Trees': ExtraTreesClassifier(random_state=seed),\n",
    "    'Decision Tree': DecisionTreeClassifier(random_state=seed),\n",
    "    'XGBoost': xgb.XGBClassifier(random_state=seed),\n",
    "    'LightGBM': lgb.LGBMClassifier(random_state=seed)\n",
    "}\n"
   ]
  },
  {
   "cell_type": "code",
   "execution_count": 6,
   "id": "50fce096",
   "metadata": {
    "execution": {
     "iopub.execute_input": "2023-09-09T16:56:42.593346Z",
     "iopub.status.busy": "2023-09-09T16:56:42.592937Z",
     "iopub.status.idle": "2023-09-09T16:57:53.929752Z",
     "shell.execute_reply": "2023-09-09T16:57:53.928347Z"
    },
    "papermill": {
     "duration": 71.35072,
     "end_time": "2023-09-09T16:57:53.932469",
     "exception": false,
     "start_time": "2023-09-09T16:56:42.581749",
     "status": "completed"
    },
    "tags": []
   },
   "outputs": [
    {
     "name": "stdout",
     "output_type": "stream",
     "text": [
      "Accuracy Score of Logistic Regression model: 0.6142857142857143\n",
      "Accuracy Score of Random Forest model: 0.5928571428571429\n",
      "Accuracy Score of Extra Trees model: 0.6\n",
      "Accuracy Score of Decision Tree model: 0.6071428571428571\n",
      "Accuracy Score of XGBoost model: 0.6571428571428571\n",
      "Accuracy Score of LightGBM model: 0.6071428571428571\n"
     ]
    }
   ],
   "source": [
    "accuracy_scores = {}\n",
    "\n",
    "for model_name, model in models.items():\n",
    "    model.fit(flat_train_images, train_labels)\n",
    "    pred_labels = model.predict(flat_test_images)\n",
    "    accuracy = accuracy_score(test_labels, pred_labels)\n",
    "    accuracy_scores[model_name] = accuracy\n",
    "    print(f\"Accuracy Score of {model_name} model: {accuracy}\")"
   ]
  },
  {
   "cell_type": "code",
   "execution_count": 7,
   "id": "285eea55",
   "metadata": {
    "execution": {
     "iopub.execute_input": "2023-09-09T16:57:53.957174Z",
     "iopub.status.busy": "2023-09-09T16:57:53.956677Z",
     "iopub.status.idle": "2023-09-09T16:57:54.331868Z",
     "shell.execute_reply": "2023-09-09T16:57:54.330630Z"
    },
    "papermill": {
     "duration": 0.391336,
     "end_time": "2023-09-09T16:57:54.335071",
     "exception": false,
     "start_time": "2023-09-09T16:57:53.943735",
     "status": "completed"
    },
    "tags": []
   },
   "outputs": [
    {
     "data": {
      "image/png": "[encoded data removed]",
      "text/plain": [
       "<Figure size 1000x500 with 1 Axes>"
      ]
     },
     "metadata": {},
     "output_type": "display_data"
    }
   ],
   "source": [
    "# Visualization of Accuracy Scores\n",
    "accuracy_scores = {k: v * 100 for k, v in accuracy_scores.items()}\n",
    "plt.figure(figsize=(10, 5))\n",
    "sns.barplot(x=list(accuracy_scores.values()), y=list(accuracy_scores.keys()), palette='tab10')\n",
    "plt.xlim(0, 100)\n",
    "plt.xlabel('Accuracy Score (%)')\n",
    "plt.ylabel('ML Models')\n",
    "plt.title('Accuracy Scores of Different Models', fontsize=10, fontweight='bold')\n",
    "plt.show()"
   ]
  },
  {
   "cell_type": "markdown",
   "id": "fcbabf5f",
   "metadata": {
    "papermill": {
     "duration": 0.010752,
     "end_time": "2023-09-09T16:57:54.357285",
     "exception": false,
     "start_time": "2023-09-09T16:57:54.346533",
     "status": "completed"
    },
    "tags": []
   },
   "source": [
    "** 2. Image Classification using PyTorch"
   ]
  },
  {
   "cell_type": "code",
   "execution_count": 8,
   "id": "356a59a9",
   "metadata": {
    "execution": {
     "iopub.execute_input": "2023-09-09T16:57:54.382542Z",
     "iopub.status.busy": "2023-09-09T16:57:54.382054Z",
     "iopub.status.idle": "2023-09-09T16:57:58.899217Z",
     "shell.execute_reply": "2023-09-09T16:57:58.897951Z"
    },
    "papermill": {
     "duration": 4.533354,
     "end_time": "2023-09-09T16:57:58.902281",
     "exception": false,
     "start_time": "2023-09-09T16:57:54.368927",
     "status": "completed"
    },
    "tags": []
   },
   "outputs": [],
   "source": [
    "import os\n",
    "import cv2\n",
    "import numpy as np\n",
    "import torch\n",
    "import torch.nn as nn\n",
    "import torch.optim as optim\n",
    "from torch.utils.data import DataLoader\n",
    "from torchvision import datasets, transforms\n",
    "from sklearn.metrics import accuracy_score\n",
    "import matplotlib.pyplot as plt\n",
    "import seaborn as sns\n",
    "\n",
    "seed = 42\n",
    "torch.manual_seed(seed)\n",
    "np.random.seed(seed)\n",
    "device = \"cuda\" if torch.cuda.is_available() else \"cpu\""
   ]
  },
  {
   "cell_type": "code",
   "execution_count": 9,
   "id": "1efd5db3",
   "metadata": {
    "execution": {
     "iopub.execute_input": "2023-09-09T16:57:58.927723Z",
     "iopub.status.busy": "2023-09-09T16:57:58.926809Z",
     "iopub.status.idle": "2023-09-09T16:57:58.932201Z",
     "shell.execute_reply": "2023-09-09T16:57:58.931034Z"
    },
    "papermill": {
     "duration": 0.020799,
     "end_time": "2023-09-09T16:57:58.934930",
     "exception": false,
     "start_time": "2023-09-09T16:57:58.914131",
     "status": "completed"
    },
    "tags": []
   },
   "outputs": [],
   "source": [
    "train_dir = \"/kaggle/input/cats-and-dogs-image-classification/train\"\n",
    "test_dir = \"/kaggle/input/cats-and-dogs-image-classification/test\""
   ]
  },
  {
   "cell_type": "code",
   "execution_count": 10,
   "id": "aa1210f9",
   "metadata": {
    "execution": {
     "iopub.execute_input": "2023-09-09T16:57:58.960342Z",
     "iopub.status.busy": "2023-09-09T16:57:58.959073Z",
     "iopub.status.idle": "2023-09-09T16:57:58.978239Z",
     "shell.execute_reply": "2023-09-09T16:57:58.977181Z"
    },
    "papermill": {
     "duration": 0.034506,
     "end_time": "2023-09-09T16:57:58.981098",
     "exception": false,
     "start_time": "2023-09-09T16:57:58.946592",
     "status": "completed"
    },
    "tags": []
   },
   "outputs": [],
   "source": [
    "data_transform = transforms.Compose([\n",
    "    transforms.Resize(size=(64, 64)),\n",
    "    transforms.ToTensor()\n",
    "])\n",
    "\n",
    "train_data = datasets.ImageFolder(root=train_dir, transform=data_transform)\n",
    "test_data = datasets.ImageFolder(root=test_dir, transform=data_transform)\n",
    "\n",
    "train_dataloader = DataLoader(dataset=train_data, batch_size=32, shuffle=True)\n",
    "test_dataloader = DataLoader(dataset=test_data, batch_size=32, shuffle=False)"
   ]
  },
  {
   "cell_type": "code",
   "execution_count": 11,
   "id": "e54448dd",
   "metadata": {
    "execution": {
     "iopub.execute_input": "2023-09-09T16:57:59.006347Z",
     "iopub.status.busy": "2023-09-09T16:57:59.005436Z",
     "iopub.status.idle": "2023-09-09T16:57:59.017470Z",
     "shell.execute_reply": "2023-09-09T16:57:59.016369Z"
    },
    "papermill": {
     "duration": 0.028007,
     "end_time": "2023-09-09T16:57:59.020155",
     "exception": false,
     "start_time": "2023-09-09T16:57:58.992148",
     "status": "completed"
    },
    "tags": []
   },
   "outputs": [],
   "source": [
    "class CNNModel(nn.Module):\n",
    "    def __init__(self):\n",
    "        super(CNNModel, self).__init__()\n",
    "        self.conv1 = nn.Conv2d(in_channels=3, out_channels=16, kernel_size=3, stride=1, padding=1)\n",
    "        self.relu1 = nn.ReLU()\n",
    "        self.pool1 = nn.MaxPool2d(kernel_size=2)\n",
    "        self.conv2 = nn.Conv2d(in_channels=16, out_channels=32, kernel_size=3, stride=1, padding=1)\n",
    "        self.relu2 = nn.ReLU()\n",
    "        self.pool2 = nn.MaxPool2d(kernel_size=2)\n",
    "        self.fc1 = nn.Linear(32 * 16 * 16, 128)  # Adjust the input size based on your architecture\n",
    "        self.relu3 = nn.ReLU()\n",
    "        self.fc2 = nn.Linear(128, 2)  # Output size 2 for binary classification\n",
    "        \n",
    "    def forward(self, x):\n",
    "        out = self.conv1(x)\n",
    "        out = self.relu1(out)\n",
    "        out = self.pool1(out)\n",
    "        out = self.conv2(out)\n",
    "        out = self.relu2(out)\n",
    "        out = self.pool2(out)\n",
    "        out = out.view(out.size(0), -1)\n",
    "        out = self.fc1(out)\n",
    "        out = self.relu3(out)\n",
    "        out = self.fc2(out)\n",
    "        return out\n"
   ]
  },
  {
   "cell_type": "code",
   "execution_count": 12,
   "id": "64470bd8",
   "metadata": {
    "execution": {
     "iopub.execute_input": "2023-09-09T16:57:59.044531Z",
     "iopub.status.busy": "2023-09-09T16:57:59.043824Z",
     "iopub.status.idle": "2023-09-09T16:57:59.106804Z",
     "shell.execute_reply": "2023-09-09T16:57:59.105615Z"
    },
    "papermill": {
     "duration": 0.079114,
     "end_time": "2023-09-09T16:57:59.110376",
     "exception": false,
     "start_time": "2023-09-09T16:57:59.031262",
     "status": "completed"
    },
    "tags": []
   },
   "outputs": [],
   "source": [
    "model = CNNModel().to(device)\n",
    "\n",
    "error = nn.CrossEntropyLoss()\n",
    "optimizer = optim.Adam(model.parameters(), lr=0.001)\n",
    "\n",
    "epochs = 25"
   ]
  },
  {
   "cell_type": "code",
   "execution_count": 13,
   "id": "267281ae",
   "metadata": {
    "execution": {
     "iopub.execute_input": "2023-09-09T16:57:59.136058Z",
     "iopub.status.busy": "2023-09-09T16:57:59.135595Z",
     "iopub.status.idle": "2023-09-09T17:01:19.396923Z",
     "shell.execute_reply": "2023-09-09T17:01:19.395480Z"
    },
    "papermill": {
     "duration": 200.277548,
     "end_time": "2023-09-09T17:01:19.399613",
     "exception": false,
     "start_time": "2023-09-09T16:57:59.122065",
     "status": "completed"
    },
    "tags": []
   },
   "outputs": [
    {
     "name": "stdout",
     "output_type": "stream",
     "text": [
      "Epoch [1/25] Loss: 12.5592\n",
      "Epoch [2/25] Loss: 12.3908\n",
      "Epoch [3/25] Loss: 12.0683\n",
      "Epoch [4/25] Loss: 11.7825\n",
      "Epoch [5/25] Loss: 10.8446\n",
      "Epoch [6/25] Loss: 10.7336\n",
      "Epoch [7/25] Loss: 9.8519\n",
      "Epoch [8/25] Loss: 8.8490\n",
      "Epoch [9/25] Loss: 8.8041\n",
      "Epoch [10/25] Loss: 7.5051\n",
      "Epoch [11/25] Loss: 6.6745\n",
      "Epoch [12/25] Loss: 6.1198\n",
      "Epoch [13/25] Loss: 5.0967\n",
      "Epoch [14/25] Loss: 5.3614\n",
      "Epoch [15/25] Loss: 4.2980\n",
      "Epoch [16/25] Loss: 4.1279\n",
      "Epoch [17/25] Loss: 2.7752\n",
      "Epoch [18/25] Loss: 2.1707\n",
      "Epoch [19/25] Loss: 1.8268\n",
      "Epoch [20/25] Loss: 1.5070\n",
      "Epoch [21/25] Loss: 1.0293\n",
      "Epoch [22/25] Loss: 0.8739\n",
      "Epoch [23/25] Loss: 0.8715\n",
      "Epoch [24/25] Loss: 0.8660\n",
      "Epoch [25/25] Loss: 0.5612\n"
     ]
    }
   ],
   "source": [
    "for epoch in range(epochs):\n",
    "    model.train()\n",
    "    epoch_loss = 0\n",
    "    for images, labels in train_dataloader:\n",
    "        images, labels = images.to(device), labels.to(device)\n",
    "        optimizer.zero_grad()\n",
    "        outputs = model(images)\n",
    "        loss = error(outputs, labels)\n",
    "        loss.backward()\n",
    "        optimizer.step()\n",
    "        epoch_loss += loss.item()\n",
    "    print(f\"Epoch [{epoch+1}/{epochs}] Loss: {epoch_loss:.4f}\")"
   ]
  },
  {
   "cell_type": "code",
   "execution_count": 14,
   "id": "6ac16998",
   "metadata": {
    "execution": {
     "iopub.execute_input": "2023-09-09T17:01:19.428205Z",
     "iopub.status.busy": "2023-09-09T17:01:19.427774Z",
     "iopub.status.idle": "2023-09-09T17:01:21.127937Z",
     "shell.execute_reply": "2023-09-09T17:01:21.126637Z"
    },
    "papermill": {
     "duration": 1.717826,
     "end_time": "2023-09-09T17:01:21.130727",
     "exception": false,
     "start_time": "2023-09-09T17:01:19.412901",
     "status": "completed"
    },
    "tags": []
   },
   "outputs": [
    {
     "name": "stdout",
     "output_type": "stream",
     "text": [
      "Accuracy of CNN: 0.64\n"
     ]
    }
   ],
   "source": [
    "model.eval()\n",
    "predictions = []\n",
    "true_labels = []\n",
    "\n",
    "with torch.no_grad():\n",
    "    for images, labels in test_dataloader:\n",
    "        images, labels = images.to(device), labels.to(device)\n",
    "        outputs = model(images)\n",
    "        _, predicted = torch.max(outputs.data, 1)\n",
    "        predictions.extend(predicted.cpu().numpy())\n",
    "        true_labels.extend(labels.cpu().numpy())\n",
    "\n",
    "accuracy_cnn = accuracy_score(true_labels, predictions)\n",
    "print(f\"Accuracy of CNN: {accuracy_cnn:.2f}\")"
   ]
  },
  {
   "cell_type": "code",
   "execution_count": 15,
   "id": "d4589f91",
   "metadata": {
    "execution": {
     "iopub.execute_input": "2023-09-09T17:01:21.160052Z",
     "iopub.status.busy": "2023-09-09T17:01:21.159254Z",
     "iopub.status.idle": "2023-09-09T17:01:21.376880Z",
     "shell.execute_reply": "2023-09-09T17:01:21.375647Z"
    },
    "papermill": {
     "duration": 0.235014,
     "end_time": "2023-09-09T17:01:21.379521",
     "exception": false,
     "start_time": "2023-09-09T17:01:21.144507",
     "status": "completed"
    },
    "tags": []
   },
   "outputs": [
    {
     "data": {
      "image/png": "[encoded data removed]",
      "text/plain": [
       "<Figure size 600x400 with 1 Axes>"
      ]
     },
     "metadata": {},
     "output_type": "display_data"
    }
   ],
   "source": [
    "# Visualization\n",
    "plt.figure(figsize=(6, 4))\n",
    "sns.barplot(x=[accuracy_cnn * 100], y=['CNN'], palette='tab10')\n",
    "plt.xlim(0, 100)\n",
    "plt.xlabel('Accuracy Score (%)')\n",
    "plt.ylabel('Models')\n",
    "plt.title('Accuracy Score of CNN', fontsize=10, fontweight='bold')\n",
    "plt.show()"
   ]
  },
  {
   "cell_type": "markdown",
   "id": "4f8c4fbd",
   "metadata": {
    "papermill": {
     "duration": 0.01324,
     "end_time": "2023-09-09T17:01:21.406839",
     "exception": false,
     "start_time": "2023-09-09T17:01:21.393599",
     "status": "completed"
    },
    "tags": []
   },
   "source": [
    "**Conclusion**"
   ]
  },
  {
   "cell_type": "markdown",
   "id": "f3cf29fc",
   "metadata": {
    "papermill": {
     "duration": 0.013748,
     "end_time": "2023-09-09T17:01:21.434647",
     "exception": false,
     "start_time": "2023-09-09T17:01:21.420899",
     "status": "completed"
    },
    "tags": []
   },
   "source": [
    "The cats and dogs image dataset is preprocessed, feature extracted and evaluated with SKlearn package and compared with a custom model using CNN in PyTorch framework.\n",
    "\n",
    "* Accuracy (SKlearn) - **XGBoost**  = **65.71%**\n",
    "* Accuracy (PyTorch) - **CNN**      = **64 %**"
   ]
  },
  {
   "cell_type": "code",
   "execution_count": 16,
   "id": "19c08dca",
   "metadata": {
    "execution": {
     "iopub.execute_input": "2023-09-09T17:01:21.464163Z",
     "iopub.status.busy": "2023-09-09T17:01:21.463461Z",
     "iopub.status.idle": "2023-09-09T17:02:54.243028Z",
     "shell.execute_reply": "2023-09-09T17:02:54.242010Z"
    },
    "papermill": {
     "duration": 92.797363,
     "end_time": "2023-09-09T17:02:54.245530",
     "exception": false,
     "start_time": "2023-09-09T17:01:21.448167",
     "status": "completed"
    },
    "tags": []
   },
   "outputs": [
    {
     "name": "stdout",
     "output_type": "stream",
     "text": [
      "Accuracy Score of Random Forest model: 0.6696428571428571\n",
      "Accuracy Score of Extra Trees model: 0.6517857142857143\n",
      "Accuracy Score of Decision Tree model: 0.5178571428571429\n",
      "Accuracy Score of XGBoost model: 0.625\n",
      "Accuracy Score of LightGBM model: 0.6428571428571429\n"
     ]
    },
    {
     "data": {
      "image/png": "[encoded data removed]",
      "text/plain": [
       "<Figure size 1000x500 with 1 Axes>"
      ]
     },
     "metadata": {},
     "output_type": "display_data"
    },
    {
     "name": "stdout",
     "output_type": "stream",
     "text": [
      "Accuracy Score on Test Set using Random Forest: 0.5928571428571429\n"
     ]
    }
   ],
   "source": [
    "import os\n",
    "import cv2\n",
    "import numpy as np\n",
    "import pandas as pd\n",
    "from sklearn.model_selection import train_test_split\n",
    "from sklearn.preprocessing import StandardScaler\n",
    "from sklearn.metrics import accuracy_score, classification_report\n",
    "import matplotlib.pyplot as plt\n",
    "import seaborn as sns\n",
    "\n",
    "seed = 42\n",
    "train_folder = \"/kaggle/input/cats-and-dogs-image-classification/train\"\n",
    "test_folder = \"/kaggle/input/cats-and-dogs-image-classification/test\"\n",
    "\n",
    "# Load and preprocess images\n",
    "def load_images(folder):\n",
    "    images = []\n",
    "    labels = []\n",
    "\n",
    "    for subfolder in os.listdir(folder):\n",
    "        subfolder_path = os.path.join(folder, subfolder)\n",
    "        label = 1 if subfolder == 'dogs' else 0\n",
    "\n",
    "        for imagelist in os.listdir(subfolder_path):\n",
    "            image_path = os.path.join(subfolder_path, imagelist)\n",
    "            image = cv2.imread(image_path)\n",
    "            image = cv2.resize(image, (64, 64))\n",
    "            images.append(image)\n",
    "            labels.append(label)\n",
    "\n",
    "    return np.array(images), np.array(labels)\n",
    "\n",
    "train_images, train_labels = load_images(train_folder)\n",
    "test_images, test_labels = load_images(test_folder)\n",
    "\n",
    "# Flatten and standardize the image data\n",
    "flat_train_images = train_images.reshape(train_images.shape[0], -1)\n",
    "flat_test_images = test_images.reshape(test_images.shape[0], -1)\n",
    "\n",
    "scaler = StandardScaler()\n",
    "flat_train_images = scaler.fit_transform(flat_train_images)\n",
    "flat_test_images = scaler.transform(flat_test_images)\n",
    "\n",
    "# Split data into training and validation sets\n",
    "X_train, X_val, y_train, y_val = train_test_split(flat_train_images, train_labels, test_size=0.2, random_state=seed)\n",
    "\n",
    "# Define and train machine learning models\n",
    "from sklearn.ensemble import RandomForestClassifier, ExtraTreesClassifier\n",
    "from sklearn.tree import DecisionTreeClassifier\n",
    "import lightgbm as lgb\n",
    "import xgboost as xgb\n",
    "\n",
    "models = {\n",
    "    'Random Forest': RandomForestClassifier(random_state=seed),\n",
    "    'Extra Trees': ExtraTreesClassifier(random_state=seed),\n",
    "    'Decision Tree': DecisionTreeClassifier(random_state=seed),\n",
    "    'XGBoost': xgb.XGBClassifier(random_state=seed),\n",
    "    'LightGBM': lgb.LGBMClassifier(random_state=seed)\n",
    "}\n",
    "\n",
    "accuracy_scores = {}\n",
    "\n",
    "for model_name, model in models.items():\n",
    "    model.fit(X_train, y_train)\n",
    "    pred_labels = model.predict(X_val)\n",
    "    accuracy = accuracy_score(y_val, pred_labels)\n",
    "    accuracy_scores[model_name] = accuracy\n",
    "    print(f\"Accuracy Score of {model_name} model: {accuracy}\")\n",
    "\n",
    "# Visualization of Accuracy Scores\n",
    "accuracy_scores = {k: v * 100 for k, v in accuracy_scores.items()}\n",
    "plt.figure(figsize=(10, 5))\n",
    "sns.barplot(x=list(accuracy_scores.values()), y=list(accuracy_scores.keys()), palette='tab10')\n",
    "plt.xlim(0, 100)\n",
    "plt.xlabel('Accuracy Score (%)')\n",
    "plt.ylabel('ML Models')\n",
    "plt.title('Accuracy Scores of Different Models', fontsize=10, fontweight='bold')\n",
    "plt.show()\n",
    "\n",
    "# Choose the best model and evaluate on the test set\n",
    "best_model_name = max(accuracy_scores, key=accuracy_scores.get)\n",
    "best_model = models[best_model_name]\n",
    "best_model.fit(flat_train_images, train_labels)\n",
    "test_pred_labels = best_model.predict(flat_test_images)\n",
    "test_accuracy = accuracy_score(test_labels, test_pred_labels)\n",
    "print(f\"Accuracy Score on Test Set using {best_model_name}: {test_accuracy}\")\n"
   ]
  },
  {
   "cell_type": "code",
   "execution_count": 17,
   "id": "f78a523a",
   "metadata": {
    "execution": {
     "iopub.execute_input": "2023-09-09T17:02:54.278682Z",
     "iopub.status.busy": "2023-09-09T17:02:54.277911Z",
     "iopub.status.idle": "2023-09-09T17:06:16.619271Z",
     "shell.execute_reply": "2023-09-09T17:06:16.618405Z"
    },
    "papermill": {
     "duration": 202.360764,
     "end_time": "2023-09-09T17:06:16.621548",
     "exception": false,
     "start_time": "2023-09-09T17:02:54.260784",
     "status": "completed"
    },
    "tags": []
   },
   "outputs": [
    {
     "name": "stdout",
     "output_type": "stream",
     "text": [
      "Epoch [1/25] Loss: 12.5592\n",
      "Epoch [2/25] Loss: 12.3908\n",
      "Epoch [3/25] Loss: 12.0683\n",
      "Epoch [4/25] Loss: 11.7825\n",
      "Epoch [5/25] Loss: 10.8446\n",
      "Epoch [6/25] Loss: 10.7336\n",
      "Epoch [7/25] Loss: 9.8519\n",
      "Epoch [8/25] Loss: 8.8490\n",
      "Epoch [9/25] Loss: 8.8041\n",
      "Epoch [10/25] Loss: 7.5051\n",
      "Epoch [11/25] Loss: 6.6745\n",
      "Epoch [12/25] Loss: 6.1198\n",
      "Epoch [13/25] Loss: 5.0967\n",
      "Epoch [14/25] Loss: 5.3614\n",
      "Epoch [15/25] Loss: 4.2980\n",
      "Epoch [16/25] Loss: 4.1279\n",
      "Epoch [17/25] Loss: 2.7752\n",
      "Epoch [18/25] Loss: 2.1707\n",
      "Epoch [19/25] Loss: 1.8268\n",
      "Epoch [20/25] Loss: 1.5070\n",
      "Epoch [21/25] Loss: 1.0293\n",
      "Epoch [22/25] Loss: 0.8739\n",
      "Epoch [23/25] Loss: 0.8715\n",
      "Epoch [24/25] Loss: 0.8660\n",
      "Epoch [25/25] Loss: 0.5612\n",
      "Accuracy of CNN on Test Set: 0.64\n"
     ]
    },
    {
     "data": {
      "image/png": "[encoded data removed]",
      "text/plain": [
       "<Figure size 600x400 with 1 Axes>"
      ]
     },
     "metadata": {},
     "output_type": "display_data"
    }
   ],
   "source": [
    "import os\n",
    "import numpy as np\n",
    "import torch\n",
    "import torch.nn as nn\n",
    "import torch.optim as optim\n",
    "from torch.utils.data import DataLoader\n",
    "from torchvision import datasets, transforms\n",
    "from sklearn.metrics import accuracy_score, classification_report\n",
    "import matplotlib.pyplot as plt\n",
    "import seaborn as sns\n",
    "\n",
    "seed = 42\n",
    "torch.manual_seed(seed)\n",
    "np.random.seed(seed)\n",
    "device = \"cuda\" if torch.cuda.is_available() else \"cpu\"\n",
    "train_dir = \"/kaggle/input/cats-and-dogs-image-classification/train\"\n",
    "test_dir = \"/kaggle/input/cats-and-dogs-image-classification/test\"\n",
    "data_transform = transforms.Compose([\n",
    "    transforms.Resize(size=(64, 64)),\n",
    "    transforms.ToTensor()\n",
    "])\n",
    "\n",
    "train_data = datasets.ImageFolder(root=train_dir, transform=data_transform)\n",
    "test_data = datasets.ImageFolder(root=test_dir, transform=data_transform)\n",
    "\n",
    "train_dataloader = DataLoader(dataset=train_data, batch_size=32, shuffle=True)\n",
    "test_dataloader = DataLoader(dataset=test_data, batch_size=32, shuffle=False)\n",
    "\n",
    "class CNNModel(nn.Module):\n",
    "    def __init__(self):\n",
    "        super(CNNModel, self).__init__()\n",
    "        self.conv1 = nn.Conv2d(in_channels=3, out_channels=16, kernel_size=3, stride=1, padding=1)\n",
    "        self.relu1 = nn.ReLU()\n",
    "        self.pool1 = nn.MaxPool2d(kernel_size=2)\n",
    "        self.conv2 = nn.Conv2d(in_channels=16, out_channels=32, kernel_size=3, stride=1, padding=1)\n",
    "        self.relu2 = nn.ReLU()\n",
    "        self.pool2 = nn.MaxPool2d(kernel_size=2)\n",
    "        self.fc1 = nn.Linear(32 * 16 * 16, 128)\n",
    "        self.relu3 = nn.ReLU()\n",
    "        self.fc2 = nn.Linear(128, 2)  # Output size 2 for binary classification\n",
    "\n",
    "    def forward(self, x):\n",
    "        out = self.conv1(x)\n",
    "        out = self.relu1(out)\n",
    "        out = self.pool1(out)\n",
    "        out = self.conv2(out)\n",
    "        out = self.relu2(out)\n",
    "        out = self.pool2(out)\n",
    "        out = out.view(out.size(0), -1)\n",
    "        out = self.fc1(out)\n",
    "        out = self.relu3(out)\n",
    "        out = self.fc2(out)\n",
    "        return out\n",
    "\n",
    "model = CNNModel().to(device)\n",
    "\n",
    "error = nn.CrossEntropyLoss()\n",
    "optimizer = optim.Adam(model.parameters(), lr=0.001)\n",
    "\n",
    "epochs = 25\n",
    "for epoch in range(epochs):\n",
    "    model.train()\n",
    "    epoch_loss = 0\n",
    "    for images, labels in train_dataloader:\n",
    "        images, labels = images.to(device), labels.to(device)\n",
    "        optimizer.zero_grad()\n",
    "        outputs = model(images)\n",
    "        loss = error(outputs, labels)\n",
    "        loss.backward()\n",
    "        optimizer.step()\n",
    "        epoch_loss += loss.item()\n",
    "    print(f\"Epoch [{epoch+1}/{epochs}] Loss: {epoch_loss:.4f}\")\n",
    "\n",
    "model.eval()\n",
    "predictions = []\n",
    "true_labels = []\n",
    "\n",
    "with torch.no_grad():\n",
    "    for images, labels in test_dataloader:\n",
    "        images, labels = images.to(device), labels.to(device)\n",
    "        outputs = model(images)\n",
    "        _, predicted = torch.max(outputs.data, 1)\n",
    "        predictions.extend(predicted.cpu().numpy())\n",
    "        true_labels.extend(labels.cpu().numpy())\n",
    "\n",
    "accuracy_cnn = accuracy_score(true_labels, predictions)\n",
    "print(f\"Accuracy of CNN on Test Set: {accuracy_cnn:.2f}\")\n",
    "\n",
    "# Visualization\n",
    "plt.figure(figsize=(6, 4))\n",
    "sns.barplot(x=[accuracy_cnn * 100], y=['CNN'], palette='tab10')\n",
    "plt.xlim(0, 100)\n",
    "plt.xlabel('Accuracy Score (%)')\n",
    "plt.ylabel('Models')\n",
    "plt.title('Accuracy Score of CNN', fontsize=10, fontweight='bold')\n",
    "plt.show()\n",
    "\n"
   ]
  },
  {
   "cell_type": "code",
   "execution_count": null,
   "id": "88feffa3",
   "metadata": {
    "papermill": {
     "duration": 0.016615,
     "end_time": "2023-09-09T17:06:16.655431",
     "exception": false,
     "start_time": "2023-09-09T17:06:16.638816",
     "status": "completed"
    },
    "tags": []
   },
   "outputs": [],
   "source": []
  }
 ],
 "kernelspec": {
  "display_name": "Python 3",
  "language": "python",
  "name": "python3"
 },
 "language_info": {
  "codemirror_mode": {
   "name": "ipython",
   "version": 3
  },
  "file_extension": ".py",
  "mimetype": "text/x-python",
  "name": "python",
  "nbconvert_exporter": "python",
  "pygments_lexer": "ipython3",
  "version": "3.6.4"
 },
 "metadata": {
  "kernelspec": {
   "display_name": "Python 3",
   "language": "python",
   "name": "python3"
  },
  "language_info": {
   "codemirror_mode": {
    "name": "ipython",
    "version": 3
   },
   "file_extension": ".py",
   "mimetype": "text/x-python",
   "name": "python",
   "nbconvert_exporter": "python",
   "pygments_lexer": "ipython3",
   "version": "3.10.12"
  },
  "papermill": {
   "default_parameters": {},
   "duration": 609.128535,
   "end_time": "2023-09-09T17:06:19.400578",
   "environment_variables": {},
   "exception": null,
   "input_path": "__notebook__.ipynb",
   "output_path": "__notebook__.ipynb",
   "parameters": {},
   "start_time": "2023-09-09T16:56:10.272043",
   "version": "2.4.0"
  }
 },
 "nbformat": 4,
 "nbformat_minor": 5
}
